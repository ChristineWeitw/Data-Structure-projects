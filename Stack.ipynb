{
 "cells": [
  {
   "cell_type": "markdown",
   "metadata": {},
   "source": [
    "## Intro\n",
    "#### In this guided project, we will use stacks to implement an algorithm that can evaluate numerical expressions.\n",
    "##### When we write an expression, we use infix notation, meaning that we put the operators between the two operands. For example 1 + 2 is in infix notation because the + operator is between the operands 1 and 2.\n",
    "#### For a computer, it's much easier to evaluate an expression written in postfix notation. In postfix notation, the operands appear before the operator. The infix expression 1 + 2 becomes 1 2 + in postfix notation."
   ]
  },
  {
   "cell_type": "markdown",
   "metadata": {},
   "source": [
    "## Stack concept - \n",
    "#### We can evaluate an expression in postfix notation using a stack. The idea is that we read the expression from left to right and do the following:\n",
    "\n",
    "###### If we find a number, then we push that number to the top of the stack.\n",
    "###### If we find an operator, we pop the top two elements of the stack, perform the operation, and then push back the result."
   ]
  },
  {
   "cell_type": "code",
   "execution_count": 2,
   "metadata": {},
   "outputs": [],
   "source": [
    "class Stack:\n",
    "    def __init__(self):\n",
    "        self.stack = []\n",
    "\n",
    "    def push(self, data):\n",
    "        self.stack.append(data)\n",
    "\n",
    "    def peek(self):\n",
    "        if not self.is_empty():\n",
    "            return self.stack[-1]\n",
    "\n",
    "    def pop(self):\n",
    "        if not self.is_empty():\n",
    "            return self.stack.pop()\n",
    "\n",
    "    def is_empty(self):\n",
    "        return len(self.stack) == 0"
   ]
  },
  {
   "cell_type": "markdown",
   "metadata": {},
   "source": [
    "## Evaluating Postfix Expressions\n",
    "\n",
    "We can now implement an algorithm to evaluate an expression in postfix notation. To do so, we need to do the following:\n",
    "\n",
    "Tokenize the expression using the tokenize() function\n",
    "Initialize an empty stack\n",
    "For each token, do the following:\n",
    "If the token is an operator, call the corresponding function to process it. For example, if we find a +, we call the process_plus() function.\n",
    "Otherwise (the token is a number) we push that number to the top of the stack. Since each token is a string, we'll need to convert it to a float first.\n",
    "Return the value that is left in the stack.\n"
   ]
  },
  {
   "cell_type": "code",
   "execution_count": null,
   "metadata": {},
   "outputs": [],
   "source": [
    "\n",
    "def evaluate_postfix(expression):\n",
    "    tokens = expression.split()  # Tokenize the expression\n",
    "    stack = Stack()  # Initialize an empty stack\n",
    "\n",
    "    for token in tokens:\n",
    "        if token in ['+', '-', '*', '/', '**']:\n",
    "            process_operator(token, stack)\n",
    "        else:\n",
    "            stack.push(float(token))\n",
    "\n",
    "    return stack.pop() if not stack.is_empty() else None\n",
    "\n",
    "\n",
    "def process_operator(operator, stack):\n",
    "    if operator == '+':\n",
    "        b = stack.pop()\n",
    "        a = stack.pop()\n",
    "        stack.push(a + b)\n",
    "    elif operator == '-':\n",
    "        b = stack.pop()\n",
    "        a = stack.pop()\n",
    "        stack.push(a - b)\n",
    "    elif operator == '*':\n",
    "        b = stack.pop()\n",
    "        a = stack.pop()\n",
    "        stack.push(a * b)\n",
    "    elif operator == '/':\n",
    "        b = stack.pop()\n",
    "        a = stack.pop()\n",
    "        stack.push(a / b)\n",
    "    elif operator == '**':\n",
    "        b = stack.pop()\n",
    "        a = stack.pop()\n",
    "        stack.push(a ** b)"
   ]
  },
  {
   "cell_type": "code",
   "execution_count": 3,
   "metadata": {},
   "outputs": [
    {
     "name": "stdout",
     "output_type": "stream",
     "text": [
      "Expression: 4 6 -\n",
      "Result: -2.0\n",
      "\n",
      "Expression: 4 1 2 9 3 / * + 5 - *\n",
      "Result: 8.0\n",
      "\n",
      "Expression: 1 2 + 3 -\n",
      "Result: 0.0\n",
      "\n",
      "Expression: 1 2 - 3 +\n",
      "Result: 2.0\n",
      "\n",
      "Expression: 10 3 5 * 16 4 - / +\n",
      "Result: 11.25\n",
      "\n",
      "Expression: 5 3 4 2 - ** *\n",
      "Result: 45.0\n",
      "\n",
      "Expression: 12 2 4 + / 21 *\n",
      "Result: 42.0\n",
      "\n",
      "Expression: 1 1 + 2 **\n",
      "Result: 4.0\n",
      "\n",
      "Expression: 1 1 2 ** +\n",
      "Result: 2.0\n",
      "\n"
     ]
    }
   ],
   "source": [
    "# Test the function\n",
    "expressions = [\n",
    "    \"4 6 -\",\n",
    "    \"4 1 2 9 3 / * + 5 - *\",\n",
    "    \"1 2 + 3 -\",\n",
    "    \"1 2 - 3 +\",\n",
    "    \"10 3 5 * 16 4 - / +\",\n",
    "    \"5 3 4 2 - ** *\",\n",
    "    \"12 2 4 + / 21 *\",\n",
    "    \"1 1 + 2 **\",\n",
    "    \"1 1 2 ** +\"\n",
    "]\n",
    "\n",
    "for expression in expressions:\n",
    "    result = evaluate_postfix(expression)\n",
    "    print(f\"Expression: {expression}\")\n",
    "    print(f\"Result: {result}\\n\")\n"
   ]
  },
  {
   "cell_type": "markdown",
   "metadata": {},
   "source": [
    "# Operator Precedence in Infix Notation\n",
    "####  To convert an expression from infix to postfix, we'll implement the Shunting-yard algorithm.  In the Shunting-yard algorithm, we'll need to compare the precedence of the operators. We will use numbers to represent the operator precedence. The higher the precedence, the higher the number. "
   ]
  },
  {
   "cell_type": "code",
   "execution_count": 4,
   "metadata": {},
   "outputs": [],
   "source": [
    "precedence = {\"+\": 1, \n",
    "              \"-\": 1, \n",
    "              \"*\": 2, \n",
    "              \"/\": 2, \n",
    "              \"**\": 3}"
   ]
  },
  {
   "cell_type": "code",
   "execution_count": 5,
   "metadata": {},
   "outputs": [
    {
     "data": {
      "text/plain": [
       "False"
      ]
     },
     "execution_count": 5,
     "metadata": {},
     "output_type": "execute_result"
    }
   ],
   "source": [
    "precedence[\"/\"]<precedence[\"-\"]"
   ]
  },
  {
   "cell_type": "code",
   "execution_count": 6,
   "metadata": {},
   "outputs": [
    {
     "name": "stdout",
     "output_type": "stream",
     "text": [
      "10 3 5 * 16 4 - / +\n"
     ]
    }
   ],
   "source": [
    "def infix_to_postfix(infix):\n",
    "    precedence = {'+': 1, '-': 1, '*': 2, '/': 2, '**': 3}  # Operator precedence dictionary\n",
    "    postfix = []  # List to store the postfix tokens\n",
    "    stack = Stack()  # Stack to process the tokens\n",
    "\n",
    "    tokens = infix.split()  # Tokenize the infix expression\n",
    "\n",
    "    for token in tokens:\n",
    "        # 'Opening parenthesis' - Push the token into the stack for later use when we find a closing parenthesis.\n",
    "        if token == '(':\n",
    "            stack.push(token)\n",
    "        # 'Closing parenthesis' - \n",
    "            ##  1. While the top of the stack isn't an opening parenthesis, (, pop the top element, and append it to the postfix token list.\n",
    "            ##  2. Pop the opening parentheses out of the stack at the end.\n",
    "        elif token == ')':\n",
    "            while not stack.is_empty() and stack.peek() != '(':\n",
    "                postfix.append(stack.pop())\n",
    "            stack.pop()  # Pop the opening parenthesis out of the stack\n",
    "        # 'Operator, +, -, *, /, or **'\n",
    "            ## 1. While the top of the stack is also an operator with a precedence greater than or equal to this operator, pop the top element, and append it to the postfix token list.\n",
    "            ## 2. Push the current operator to the top of the stack\n",
    "        elif token in precedence:\n",
    "            while not stack.is_empty() and stack.peek() != '(' and precedence[token] <= precedence.get(stack.peek(), 0):\n",
    "                postfix.append(stack.pop())\n",
    "            stack.push(token)\n",
    "        # 'Operand' - Append the number to the postfix token list.\n",
    "        else:\n",
    "            postfix.append(token)\n",
    "\n",
    "    while not stack.is_empty():\n",
    "        postfix.append(stack.pop())\n",
    "\n",
    "    return ' '.join(postfix)\n",
    "\n",
    "\n",
    "# Test the function\n",
    "infix = \"10 + 3 * 5 / ( 16 - 4 )\"\n",
    "postfix = infix_to_postfix(infix)\n",
    "print(postfix)\n"
   ]
  },
  {
   "cell_type": "code",
   "execution_count": 8,
   "metadata": {},
   "outputs": [
    {
     "data": {
      "text/plain": [
       "11.25"
      ]
     },
     "execution_count": 8,
     "metadata": {},
     "output_type": "execute_result"
    }
   ],
   "source": [
    "evaluate_postfix(postfix)"
   ]
  },
  {
   "cell_type": "code",
   "execution_count": null,
   "metadata": {},
   "outputs": [],
   "source": []
  }
 ],
 "metadata": {
  "kernelspec": {
   "display_name": "Python 3",
   "language": "python",
   "name": "python3"
  },
  "language_info": {
   "codemirror_mode": {
    "name": "ipython",
    "version": 3
   },
   "file_extension": ".py",
   "mimetype": "text/x-python",
   "name": "python",
   "nbconvert_exporter": "python",
   "pygments_lexer": "ipython3",
   "version": "3.8.2"
  }
 },
 "nbformat": 4,
 "nbformat_minor": 1
}
